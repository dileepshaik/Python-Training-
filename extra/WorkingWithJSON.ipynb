{
 "cells": [
  {
   "cell_type": "markdown",
   "metadata": {},
   "source": [
    "- JSON stands for \"JavaScript Object Notation\"\n",
    "- But, this is not related to JS and it is language independent\n",
    "- Different programming language has support for parsing and generating JSON data"
   ]
  },
  {
   "cell_type": "code",
   "execution_count": null,
   "metadata": {},
   "outputs": [],
   "source": [
    "# json module to work with the JSON data\n",
    "import json"
   ]
  },
  {
   "cell_type": "code",
   "execution_count": null,
   "metadata": {},
   "outputs": [],
   "source": [
    "import pprint"
   ]
  },
  {
   "cell_type": "code",
   "execution_count": null,
   "metadata": {},
   "outputs": [],
   "source": [
    "pprint.pprint({'hello':'world'})"
   ]
  },
  {
   "cell_type": "code",
   "execution_count": null,
   "metadata": {
    "scrolled": true
   },
   "outputs": [],
   "source": [
    "# We need a valid JSON data\n",
    "json_string = \"\"\"\n",
    "    {\n",
    "        \"people\": [\n",
    "            {\n",
    "                \"name\": \"Sagar Giri\",\n",
    "                \"phone\": [\"9807360000\", \"9840207890\"],\n",
    "                \"emails\": \"girisagar46@gmail.com\",\n",
    "                \"has_license\": false\n",
    "            },\n",
    "            \n",
    "            {\n",
    "                \"name\": \"Ram Bahadur\",\n",
    "                \"phone\": [\"9800000000\"],\n",
    "                \"emails\": null,\n",
    "                \"has_license\": true\n",
    "            }\n",
    "        ]\n",
    "    }\n",
    "\"\"\"\n",
    "print(json_string)"
   ]
  },
  {
   "cell_type": "markdown",
   "metadata": {},
   "source": [
    "#  Loading JSON"
   ]
  },
  {
   "cell_type": "code",
   "execution_count": null,
   "metadata": {},
   "outputs": [],
   "source": [
    "data = json.loads(json_string)\n",
    "print(data)\n",
    "\n",
    "# looks like Python dictionary\n",
    "print(type(data))\n",
    "\n"
   ]
  },
  {
   "cell_type": "markdown",
   "metadata": {},
   "source": [
    "### How conversion takes place under the hood"
   ]
  },
  {
   "cell_type": "markdown",
   "metadata": {},
   "source": [
    "![decode_incode](../images/JSON_encoder_decoder.png)\n",
    "\n",
    "source: [https://docs.python.org/2/library/json.html#encoders-and-decoders](https://docs.python.org/2/library/json.html#encoders-and-decoders)"
   ]
  },
  {
   "cell_type": "markdown",
   "metadata": {},
   "source": [
    "## Accessing"
   ]
  },
  {
   "cell_type": "code",
   "execution_count": null,
   "metadata": {},
   "outputs": [],
   "source": [
    "print(type(data[\"people\"]))\n",
    "print(type(data[\"people\"][0][\"phone\"]))\n",
    "print(type(data[\"people\"][0][\"has_license\"]))"
   ]
  },
  {
   "cell_type": "code",
   "execution_count": null,
   "metadata": {},
   "outputs": [],
   "source": [
    "# Since, our JSON data is converted to JSON object, we can loop through it\n",
    "for person in data[\"people\"]:\n",
    "    print(type(person))"
   ]
  },
  {
   "cell_type": "code",
   "execution_count": null,
   "metadata": {},
   "outputs": [],
   "source": [
    "for person in data[\"people\"]:\n",
    "    print(person[\"name\"])"
   ]
  },
  {
   "cell_type": "markdown",
   "metadata": {},
   "source": [
    "## Modifying our JSON data"
   ]
  },
  {
   "cell_type": "code",
   "execution_count": null,
   "metadata": {},
   "outputs": [],
   "source": [
    "for person in data[\"people\"]:\n",
    "    \"\"\"Running this code again will throw KeyError since, in first run we deleted the value.\"\"\"\n",
    "    del person['phone'] \n",
    "print(data)    \n",
    "# new_data = json.dumps(data, indent=2) #Indent means the formatting\n",
    "# print(new_data)"
   ]
  },
  {
   "cell_type": "markdown",
   "metadata": {},
   "source": [
    "# Working with JSON files"
   ]
  },
  {
   "cell_type": "code",
   "execution_count": null,
   "metadata": {},
   "outputs": [],
   "source": [
    "# loads loads a JSON string\n",
    "# load loads a JSON file\n",
    "\n",
    "import json\n",
    "\n",
    "with open(\"products.json\") as f:\n",
    "    data = json.load(f)\n",
    "\n",
    "data"
   ]
  },
  {
   "cell_type": "code",
   "execution_count": null,
   "metadata": {
    "scrolled": true
   },
   "outputs": [],
   "source": [
    "for product in data:\n",
    "    print(\"Name: {}, Cost: {}\".format(product.get(\"product_name\"),product.get(\"unit_cost\")))"
   ]
  },
  {
   "cell_type": "code",
   "execution_count": null,
   "metadata": {},
   "outputs": [],
   "source": [
    "# Let's delete _id from each object and write it in another JSON file\n",
    "\n",
    "for product in data:\n",
    "    del product['_id']\n",
    "    \n",
    "with open(\"new_product_data.json\", \"w\") as f:\n",
    "    json.dump(data, f, indent=2) #dumps method writes to string and dump writes to file\n",
    "    "
   ]
  },
  {
   "cell_type": "code",
   "execution_count": null,
   "metadata": {},
   "outputs": [],
   "source": [
    "with open(\"new_product_data.json\") as f:\n",
    "    data = json.load(f)\n",
    "\n",
    "data"
   ]
  },
  {
   "cell_type": "markdown",
   "metadata": {},
   "source": [
    "# Grabbing JSON data from WEB"
   ]
  },
  {
   "cell_type": "code",
   "execution_count": null,
   "metadata": {
    "scrolled": true
   },
   "outputs": [],
   "source": [
    "# pulling user info from GitHub\n",
    "\n",
    "import json\n",
    "from urllib.request import urlopen\n",
    "\n",
    "# here girisagar46 is a username\n",
    "with urlopen(\"https://api.github.com/users/girisagar46\") as response:\n",
    "    source = response.read().decode('utf-8') #since, api responds with byte instead of char, we need to decode it\n",
    "    \n",
    "source_data = json.loads(source)\n",
    "print(source_data)"
   ]
  },
  {
   "cell_type": "code",
   "execution_count": null,
   "metadata": {},
   "outputs": [],
   "source": [
    "# We saved the response into our variable, we can reuse it\n",
    "print(json.dumps(source_data, indent=2))"
   ]
  },
  {
   "cell_type": "code",
   "execution_count": null,
   "metadata": {},
   "outputs": [],
   "source": [
    "# Getting relevant information\n",
    "print(source_data['name'])\n",
    "print(source_data['login'])\n",
    "print(source_data['blog'])\n",
    "print(source_data['html_url'])"
   ]
  },
  {
   "cell_type": "code",
   "execution_count": null,
   "metadata": {},
   "outputs": [],
   "source": [
    "# Let's get repository information \n",
    "\n",
    "with urlopen(\"https://api.github.com/users/girisagar46/repos\") as response:\n",
    "    source = response.read().decode('utf-8') #since, api responds with byte instead of char, we need to decode it\n",
    "    \n",
    "repo_info = json.loads(source)"
   ]
  },
  {
   "cell_type": "code",
   "execution_count": null,
   "metadata": {},
   "outputs": [],
   "source": [
    "for each_repo in repo_info:\n",
    "    print(each_repo.get(\"name\"), end=\"\\t\")"
   ]
  }
 ],
 "metadata": {
  "kernelspec": {
   "display_name": "Python 3",
   "language": "python",
   "name": "python3"
  },
  "language_info": {
   "codemirror_mode": {
    "name": "ipython",
    "version": 3
   },
   "file_extension": ".py",
   "mimetype": "text/x-python",
   "name": "python",
   "nbconvert_exporter": "python",
   "pygments_lexer": "ipython3",
   "version": "3.6.4"
  }
 },
 "nbformat": 4,
 "nbformat_minor": 1
}
